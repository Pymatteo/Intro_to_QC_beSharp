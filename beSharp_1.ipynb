{
  "cells": [
    {
      "cell_type": "markdown",
      "metadata": {
        "id": "view-in-github",
        "colab_type": "text"
      },
      "source": [
        "<a href=\"https://colab.research.google.com/github/fran-scala/Intro_to_QC_beSharp/blob/main/beSharp_1.ipynb\" target=\"_parent\"><img src=\"https://colab.research.google.com/assets/colab-badge.svg\" alt=\"Open In Colab\"/></a>"
      ]
    },
    {
      "cell_type": "markdown",
      "id": "fb52eff9",
      "metadata": {
        "id": "fb52eff9"
      },
      "source": [
        "# AWS Braket Tutorial @ beSharp"
      ]
    },
    {
      "cell_type": "markdown",
      "id": "ac58f2b4",
      "metadata": {
        "id": "ac58f2b4"
      },
      "source": [
        "If AWS Braket is not already installed please run the following cell. For more info visit [link](https://pypi.org/project/amazon-braket-sdk/).\n",
        "$$\\newcommand{\\ket}[1]{\\left|{#1}\\right\\rangle}$$\n",
        "$$\\newcommand{\\bra}[1]{\\left\\langle{#1}\\right|}$$"
      ]
    },
    {
      "cell_type": "code",
      "execution_count": null,
      "id": "e906308e",
      "metadata": {
        "id": "e906308e"
      },
      "outputs": [],
      "source": [
        "!pip install amazon-braket-sdk #--quiet"
      ]
    },
    {
      "cell_type": "code",
      "execution_count": 2,
      "id": "01cf8736",
      "metadata": {
        "colab": {
          "base_uri": "https://localhost:8080/",
          "height": 35
        },
        "id": "01cf8736",
        "outputId": "71f51a33-6d51-4e60-8d66-4a2d5d73e2bf"
      },
      "outputs": [
        {
          "output_type": "execute_result",
          "data": {
            "text/plain": [
              "'1.18.0'"
            ],
            "application/vnd.google.colaboratory.intrinsic+json": {
              "type": "string"
            }
          },
          "metadata": {},
          "execution_count": 2
        }
      ],
      "source": [
        "import braket._sdk as sdk\n",
        "sdk.__version__"
      ]
    },
    {
      "cell_type": "code",
      "execution_count": 3,
      "id": "bf2098a2",
      "metadata": {
        "id": "bf2098a2"
      },
      "outputs": [],
      "source": [
        "# general imports\n",
        "import matplotlib.pyplot as plt\n",
        "%matplotlib inline\n",
        "import string\n",
        "import datetime as dt\n",
        "import time\n",
        "import numpy as np"
      ]
    },
    {
      "cell_type": "markdown",
      "id": "f99e1e43",
      "metadata": {
        "id": "f99e1e43"
      },
      "source": [
        "## A brief recap"
      ]
    },
    {
      "cell_type": "markdown",
      "id": "334e8e4f",
      "metadata": {
        "id": "334e8e4f"
      },
      "source": [
        "Before we start let's have a little recap of quantum computing basics. Firstly, we will give a quick look on the action of the principal quantum gates so as to understand what is done on the qubits state and then we will explain how to construct quantum circuits with di AWS Braket SDK. \n",
        "\n",
        "Each quantum gate can be represented by a ***unitary matrix*** that acts on the ***state vector*** of the qubits. In general, a single qubit state vector is written as \n",
        "$$\\ket{\\psi} = \\alpha \\ket{0}+\\beta\\ket{1}$$\n",
        "where $\\alpha, \\beta \\in \\mathrm{C}$ and $\\ket{0}=\\begin{pmatrix}1\\\\0\\end{pmatrix}$, $\\ket{1}=\\begin{pmatrix}0\\\\1\\end{pmatrix}$.\n",
        "\n",
        "The state of a qubit can also be visually represented onto the so-called Bloch sphere:\n",
        "\n",
        "<img src=\"https://github.com/fran-scala/Intro_to_QC_beSharp/blob/main/Images/Bloch_sphere.svg.png?raw=1\" alt=\"bloch\" width=\"200\"/>\n",
        "\n",
        "in this representation we have $\\alpha=\\cos{\\frac{\\theta}{2}}$, $\\beta=e^{i\\varphi}\\sin{\\frac{\\theta}{2}}$."
      ]
    },
    {
      "cell_type": "markdown",
      "id": "19147b91",
      "metadata": {
        "id": "19147b91"
      },
      "source": [
        "The most general quantum gate is the one that moves the state $\\ket{\\psi}$ on the Bloch sphere by modifying $\\theta$ and $\\varphi$. One can also obtain the same effect by combining rotations around each axis: we call such rotation gates $RX(\\delta),\\ RY(\\delta),\\ RZ(\\delta) $. From these gates we can obtain all the main single-qubit quantum gates.\n",
        "\n",
        "The main single-qubit quantum gates toghether with their matrix from are reported in the following table:\n",
        "\n",
        "<img src=\"https://github.com/fran-scala/Intro_to_QC_beSharp/blob/main/Images/Quantum_Gates.png?raw=1\" alt=\"quantum gates\" width=\"500\"/>\n"
      ]
    },
    {
      "cell_type": "markdown",
      "id": "fc6fb2b3",
      "metadata": {
        "id": "fc6fb2b3"
      },
      "source": [
        "These gates act in the following way:\n",
        "\n",
        "$X\\ket{0} = \\ket{1} \\quad, \\quad X\\ket{1}=\\ket{0}$\n",
        "\n",
        "$Y\\ket{0} = -i\\ket{1} \\quad, \\quad Y\\ket{1}=i\\ket{0}$\n",
        "\n",
        "$Z\\ket{0} = \\ket{0} \\quad, \\quad Z\\ket{1}=-\\ket{1}$\n",
        "\n",
        "$H\\ket{0} = \\frac{1}{\\sqrt{2}} \\biggl(\\ket{0}+\\ket{1}\\biggr)=\\ket{+} \\quad, \\quad H\\ket{1}=\\frac{1}{\\sqrt{2}} \\biggl(\\ket{0}-\\ket{1}\\biggr)=\\ket{-}$\n",
        "\n",
        "where $\\ket{+}$ and $\\ket{-}$ are highlighted since they are eigenstate of the $X$ gate."
      ]
    },
    {
      "cell_type": "markdown",
      "id": "db8eec6e",
      "metadata": {
        "id": "db8eec6e"
      },
      "source": [
        "Another important class of gates are 2-qubits quantum gates, since by the combination of 1-qubit and 2-qubit quantum gate we can obtain gates acting on an arbitrary number of qubits\n",
        "\n",
        "In the table below we show two 2-qubit quantum gates: $CNOT, \\ CZ$. \n",
        "\n",
        "<img src=\"https://github.com/fran-scala/Intro_to_QC_beSharp/blob/main/Images/Quantum_Gates_2qbs.png?raw=1\" alt=\"quantum gates 2qb\" width=\"500\"/>\n",
        "\n",
        "These are an example of ***controlled*** operations. A quantum gate is said to be controlled if its action is performed on a certain target qubit *if and only if* the control qubit is in state $\\ket{1}$. Controlled operations allow to generate entanglement.\n"
      ]
    },
    {
      "cell_type": "markdown",
      "id": "a79d767e",
      "metadata": {
        "id": "a79d767e"
      },
      "source": [
        "## Quantum circuits"
      ]
    },
    {
      "cell_type": "markdown",
      "id": "8fb7cb64",
      "metadata": {
        "id": "8fb7cb64"
      },
      "source": [
        "At this point we have retrieved all the information we will need and we can start our hands-on tutorial by seeing which are all the available gates of the SDK:"
      ]
    },
    {
      "cell_type": "code",
      "execution_count": 4,
      "id": "2723fd9a",
      "metadata": {
        "colab": {
          "base_uri": "https://localhost:8080/"
        },
        "id": "2723fd9a",
        "outputId": "d5735e2b-3024-4a7b-b8e2-4d2c59ad2015"
      },
      "outputs": [
        {
          "output_type": "stream",
          "name": "stdout",
          "text": [
            "['CCNot', 'CNot', 'CPhaseShift', 'CPhaseShift00', 'CPhaseShift01', 'CPhaseShift10', 'CSwap', 'CV', 'CY', 'CZ', 'ECR', 'H', 'I', 'ISwap', 'PSwap', 'PhaseShift', 'Rx', 'Ry', 'Rz', 'S', 'Si', 'Swap', 'T', 'Ti', 'Unitary', 'V', 'Vi', 'X', 'XX', 'XY', 'Y', 'YY', 'Z', 'ZZ']\n"
          ]
        }
      ],
      "source": [
        "from braket.circuits import Gate\n",
        "# print all available gates in Amazon Braket\n",
        "gate_set = [attr for attr in dir(Gate) if attr[0] in string.ascii_uppercase]\n",
        "#dir() returns list of the attributes and methods of any object\n",
        "#the if statement is needed to only print gates (they always have at least an uppercase letter)\n",
        "print(gate_set)"
      ]
    },
    {
      "cell_type": "markdown",
      "id": "e33be69f",
      "metadata": {
        "id": "e33be69f"
      },
      "source": [
        "As we can see there are tons of other gates in addition to the ones that we have seen.\n",
        "\n",
        "In order to apply one of them to a quantum circuit you have to call the method with lower cases:"
      ]
    },
    {
      "cell_type": "code",
      "execution_count": 5,
      "id": "4b6fe8ca",
      "metadata": {
        "colab": {
          "base_uri": "https://localhost:8080/"
        },
        "id": "4b6fe8ca",
        "outputId": "e10b533d-5104-4708-ff5e-4e5684ab757a"
      },
      "outputs": [
        {
          "output_type": "execute_result",
          "data": {
            "text/plain": [
              "Circuit('instructions': [Instruction('operator': H('qubit_count': 1), 'target': QubitSet([Qubit(0)])), Instruction('operator': CNot('qubit_count': 2), 'target': QubitSet([Qubit(0), Qubit(1)]))])"
            ]
          },
          "metadata": {},
          "execution_count": 5
        }
      ],
      "source": [
        "# import the circuit module\n",
        "from braket.circuits import Circuit\n",
        "\n",
        "#we create an empty quantum circuit\n",
        "my_circuit = Circuit()# we don't need to specify the number of qubits\n",
        "\n",
        "#we apply gates\n",
        "my_circuit.h(0)\n",
        "my_circuit.cnot(control=0,target=1)# we can esplicitly define control and target, \n",
        "                                    #or simply call my_circuit.cnot(0,1)\n",
        "\n",
        "my_circuit"
      ]
    },
    {
      "cell_type": "markdown",
      "id": "e686e657",
      "metadata": {
        "id": "e686e657"
      },
      "source": [
        "The circuit object is a list of instructions, in order to see how it looks like we can use the `print()` function:"
      ]
    },
    {
      "cell_type": "code",
      "execution_count": 6,
      "id": "2059efca",
      "metadata": {
        "colab": {
          "base_uri": "https://localhost:8080/"
        },
        "id": "2059efca",
        "outputId": "9c316c78-eb0e-4403-b3b9-a761c424f39f"
      },
      "outputs": [
        {
          "output_type": "stream",
          "name": "stdout",
          "text": [
            "T  : |0|1|\n",
            "          \n",
            "q0 : -H-C-\n",
            "        | \n",
            "q1 : ---X-\n",
            "\n",
            "T  : |0|1|\n"
          ]
        }
      ],
      "source": [
        "print(my_circuit)"
      ]
    },
    {
      "cell_type": "markdown",
      "id": "c19c6542",
      "metadata": {
        "id": "c19c6542"
      },
      "source": [
        "When printing the quantum circuit structure AWS Braket shows us the following elements:\n",
        "\n",
        "- the qubits denoted by 'q' followed by the gates applied to them;\n",
        "- above and below the circuits are represented the timesteps in which the computation on a device will be sliced. \n",
        "\n",
        "In fact, we can only apply one gate at a time per each qubit. The timesteps length is also known as 'depth' of the circuit.\n",
        "\n",
        "If we add to our circuit one gate on different qubits we will see that the timesteps number doesn't increase:"
      ]
    },
    {
      "cell_type": "code",
      "execution_count": 7,
      "id": "a239bca6",
      "metadata": {
        "colab": {
          "base_uri": "https://localhost:8080/"
        },
        "id": "a239bca6",
        "outputId": "681b1f90-60b9-4a5d-98d7-7a37be1fa6a7"
      },
      "outputs": [
        {
          "output_type": "stream",
          "name": "stdout",
          "text": [
            "T  : |0|1|\n",
            "          \n",
            "q0 : -H-C-\n",
            "        | \n",
            "q1 : ---X-\n",
            "          \n",
            "q2 : -C---\n",
            "      |   \n",
            "q3 : -X---\n",
            "\n",
            "T  : |0|1|\n"
          ]
        }
      ],
      "source": [
        "my_circuit = Circuit()\n",
        "my_circuit.h(0)\n",
        "my_circuit.cnot(0,1)\n",
        "\n",
        "my_circuit.cnot(2,3)\n",
        "print(my_circuit)"
      ]
    },
    {
      "cell_type": "markdown",
      "id": "5319b110",
      "metadata": {
        "id": "5319b110"
      },
      "source": [
        "We can also easily combine circuits:"
      ]
    },
    {
      "cell_type": "code",
      "execution_count": 8,
      "id": "70b35800",
      "metadata": {
        "colab": {
          "base_uri": "https://localhost:8080/"
        },
        "id": "70b35800",
        "outputId": "93c22dd7-58a4-4a49-a613-94b37406ce8d"
      },
      "outputs": [
        {
          "output_type": "stream",
          "name": "stdout",
          "text": [
            "T  : |0|1|2|\n",
            "            \n",
            "q0 : -H-X-H-\n",
            "        |   \n",
            "q1 : ---C-X-\n",
            "            \n",
            "q3 : -Z-----\n",
            "\n",
            "T  : |0|1|2|\n"
          ]
        }
      ],
      "source": [
        "my_circ1 = Circuit().h(0).cnot(1,0)\n",
        "my_circ2 = Circuit().x(1).h(0).z(3)\n",
        "\n",
        "combined_circ = my_circ1 + my_circ2\n",
        "\n",
        "print(combined_circ)"
      ]
    },
    {
      "cell_type": "markdown",
      "id": "94dc4bec",
      "metadata": {
        "id": "94dc4bec"
      },
      "source": [
        "## Bell States execution"
      ]
    },
    {
      "cell_type": "markdown",
      "id": "1f86498d",
      "metadata": {
        "id": "1f86498d"
      },
      "source": [
        "The so-called 'Bell states' are a well known class of maximally entangled quantum states. They are described by the following equations: \n",
        "\n",
        "$$\\ket{\\Phi^+} =  \\frac{1}{\\sqrt{2}} \\biggl(\\ket{00}+\\ket{11}\\biggr) \\quad , \\quad \\quad \\ket{\\Phi^-} =  \\frac{1}{\\sqrt{2}} \\biggl(\\ket{00}-\\ket{11}\\biggr)$$ \n",
        "\n",
        "$$\\ket{\\Psi^+} =  \\frac{1}{\\sqrt{2}} \\biggl(\\ket{01}+\\ket{10}\\biggr) \\quad , \\quad \\quad \\ket{\\Psi^-} =  \\frac{1}{\\sqrt{2}} \\biggl(\\ket{01}-\\ket{10}\\biggr)$$ \n",
        "\n",
        "The Bell state $\\ket{\\Phi^+}$ can be obtained applying an Hadamard gate follwed by a $CNOT$. All the others can be obtained from this one by changing only the initial qubit state (from $\\ket{00}$ to $\\ket{01},\\ket{10},\\ket{11}$) using some $X$ gates.\n",
        "\n",
        "![Bell](https://github.com/fran-scala/Intro_to_QC_beSharp/blob/main/Images/bell-state.png?raw=1)\n",
        "\n",
        "So, let's build this circuit and see how to execute it."
      ]
    },
    {
      "cell_type": "code",
      "source": [
        "bell_circ = Circuit().h(0).cnot(0,1)"
      ],
      "metadata": {
        "id": "vD1zO-qqRNOV"
      },
      "id": "vD1zO-qqRNOV",
      "execution_count": 9,
      "outputs": []
    },
    {
      "cell_type": "markdown",
      "id": "865b2989",
      "metadata": {
        "id": "865b2989"
      },
      "source": [
        "Now that we built a circuit we can execute it with the `LocalSimulator`. Executing a quantum circuit means that we measure the status of each qubit after we performed the computation to see if they are in state $\\ket{0}$ or $\\ket{1}$. Since quantum mechanics allows superposition state we will need to repeat the computation multiple times, so we have to fix the number of desired `shots`."
      ]
    },
    {
      "cell_type": "code",
      "execution_count": 16,
      "id": "e5dfddec",
      "metadata": {
        "colab": {
          "base_uri": "https://localhost:8080/"
        },
        "id": "e5dfddec",
        "outputId": "4f9a4031-b731-48dd-f8b8-fb53a97d320e"
      },
      "outputs": [
        {
          "output_type": "stream",
          "name": "stdout",
          "text": [
            "Counter({'11': 509, '00': 491})\n"
          ]
        }
      ],
      "source": [
        "from braket.devices import LocalSimulator\n",
        "\n",
        "# set up device\n",
        "device = LocalSimulator()\n",
        "\n",
        "# set the number of desired shots\n",
        "n_shots = 1000\n",
        "\n",
        "# run circuit\n",
        "result = device.run(bell_circ, shots=n_shots).result()\n",
        "# get measurement shots\n",
        "sim_counts = result.measurement_counts\n",
        "# print counts\n",
        "print(sim_counts)"
      ]
    },
    {
      "cell_type": "code",
      "execution_count": 17,
      "id": "8704ef4f",
      "metadata": {
        "colab": {
          "base_uri": "https://localhost:8080/",
          "height": 279
        },
        "id": "8704ef4f",
        "outputId": "a2b6f9b8-0211-49c8-c8ef-a574ffbc8a8a"
      },
      "outputs": [
        {
          "output_type": "display_data",
          "data": {
            "text/plain": [
              "<Figure size 432x288 with 1 Axes>"
            ],
            "image/png": "[encoded data removed]"
          },
          "metadata": {
            "needs_background": "light"
          }
        }
      ],
      "source": [
        "# plot the results\n",
        "plt.bar(sim_counts.keys(), sim_counts.values())\n",
        "plt.xlabel('Bitstrings')\n",
        "plt.ylabel('Counts')\n",
        "\n",
        "plt.show()"
      ]
    },
    {
      "cell_type": "markdown",
      "id": "e04d38ed",
      "metadata": {
        "id": "e04d38ed"
      },
      "source": [
        "# Real hardware execution"
      ]
    },
    {
      "cell_type": "code",
      "execution_count": null,
      "id": "2c019c56",
      "metadata": {
        "id": "2c019c56"
      },
      "outputs": [],
      "source": [
        "# Please enter the S3 bucket you created during onboarding in the code below\n",
        "my_bucket = #\"amazon-braket-\" # the name of the bucket\n",
        "my_prefix = #\"folder/\" # the name of the folder in the bucket\n",
        "\n",
        "s3_folder = (my_bucket, my_prefix)"
      ]
    },
    {
      "cell_type": "markdown",
      "id": "fdee0b9a",
      "metadata": {
        "id": "fdee0b9a"
      },
      "source": [
        "By only changing the device name one could in principle execute the quantum circuit also on real quantum hardware. \n",
        "\n",
        "To access a real quantum device you will need an AWS account and set up few things. Once you have done that, the syntax to load for instance the IonQ and Rigetti devices is the following:"
      ]
    },
    {
      "cell_type": "code",
      "execution_count": 19,
      "id": "87025590",
      "metadata": {
        "id": "87025590"
      },
      "outputs": [],
      "source": [
        "#ionq = AwsDevice(\"arn:aws:braket:::device/qpu/ionq/ionQdevice\")\n",
        "#rigetti = AwsDevice(\"\")\n",
        "\n",
        "#device_list = [ionq, rigetti]\n",
        "\n",
        "device_list = [LocalSimulator(),LocalSimulator()] #for now"
      ]
    },
    {
      "cell_type": "markdown",
      "id": "7e090622",
      "metadata": {
        "id": "7e090622"
      },
      "source": [
        "**ATTENTION:** Often real hardware have limited kinds of gates available, always check them before trying to execute the quantum circuit."
      ]
    },
    {
      "cell_type": "code",
      "execution_count": 20,
      "id": "692c40fe",
      "metadata": {
        "colab": {
          "base_uri": "https://localhost:8080/"
        },
        "id": "692c40fe",
        "outputId": "8ab7276c-276a-4518-e417-a5caebb0da0b"
      },
      "outputs": [
        {
          "output_type": "stream",
          "name": "stdout",
          "text": [
            "Gate set supported by the device:\n",
            " ['ccnot', 'cnot', 'cphaseshift', 'cphaseshift00', 'cphaseshift01', 'cphaseshift10', 'cswap', 'cv', 'cy', 'cz', 'h', 'i', 'iswap', 'pswap', 'phaseshift', 'rx', 'ry', 'rz', 's', 'si', 'swap', 't', 'ti', 'unitary', 'v', 'vi', 'x', 'xx', 'xy', 'y', 'yy', 'z', 'zz']\n",
            "Gate set supported by the device:\n",
            " ['ccnot', 'cnot', 'cphaseshift', 'cphaseshift00', 'cphaseshift01', 'cphaseshift10', 'cswap', 'cv', 'cy', 'cz', 'h', 'i', 'iswap', 'pswap', 'phaseshift', 'rx', 'ry', 'rz', 's', 'si', 'swap', 't', 'ti', 'unitary', 'v', 'vi', 'x', 'xx', 'xy', 'y', 'yy', 'z', 'zz']\n"
          ]
        }
      ],
      "source": [
        "for device in device_list:\n",
        "\n",
        "  supported_gates = device.properties.action['braket.ir.jaqcd.program'].supportedOperations\n",
        "  print('Gate set supported by the device:\\n', supported_gates)"
      ]
    },
    {
      "cell_type": "markdown",
      "source": [
        "Let's execute the Bell circuit on some different hardware and see the different performances."
      ],
      "metadata": {
        "id": "dy56T-fVbShw"
      },
      "id": "dy56T-fVbShw"
    },
    {
      "cell_type": "code",
      "source": [
        "task_list = []\n",
        "counts_list = []"
      ],
      "metadata": {
        "id": "Fn8Iliv3bRag"
      },
      "id": "Fn8Iliv3bRag",
      "execution_count": 21,
      "outputs": []
    },
    {
      "cell_type": "code",
      "source": [
        "# set the number of desired shots\n",
        "n_shots = 1000\n",
        "\n",
        "\n",
        "for device in device_list:\n",
        "  # run circuit\n",
        "  task = device.run(bell_circ, shots=n_shots).result()\n",
        "  #save task id\n",
        "  #task_list.append(task.id) #task.id only works with online devices\n",
        "  # get measurement shots\n",
        "  counts = task.measurement_counts\n",
        "\n",
        "  counts_list.append(counts)\n",
        "\n",
        "#np.save('real_hdw_bell_tasks_{}'.format(dt.datetime.today().isoformat()),task_list)"
      ],
      "metadata": {
        "id": "8pXjE2gxbJ_G"
      },
      "id": "8pXjE2gxbJ_G",
      "execution_count": 26,
      "outputs": []
    },
    {
      "cell_type": "markdown",
      "source": [
        "We can now see if there are any differences in the measurement counts using different hardware implementations:"
      ],
      "metadata": {
        "id": "-B7GkRiYxVwo"
      },
      "id": "-B7GkRiYxVwo"
    },
    {
      "cell_type": "code",
      "source": [
        "keys = [np.binary_repr(i,  width=2) for i in range(2**2)]\n",
        "print(keys)"
      ],
      "metadata": {
        "colab": {
          "base_uri": "https://localhost:8080/"
        },
        "id": "UbqKaA_ynqjV",
        "outputId": "f651712c-4a63-4f56-fb07-4e3e188015bf"
      },
      "id": "UbqKaA_ynqjV",
      "execution_count": 50,
      "outputs": [
        {
          "output_type": "stream",
          "name": "stdout",
          "text": [
            "['00', '01', '10', '11']\n"
          ]
        }
      ]
    },
    {
      "cell_type": "code",
      "source": [
        "D={'11':500, '00':250, '10':250, '01':0}\n",
        "counts_list.append(D) # comment this\n",
        "#counts_list.append(sim_counts) ##uncomment this"
      ],
      "metadata": {
        "id": "mhCAlQo-viQr"
      },
      "id": "mhCAlQo-viQr",
      "execution_count": null,
      "outputs": []
    },
    {
      "cell_type": "code",
      "source": [
        "device_names = ['IonQ', 'Rigetti', 'Simulator']\n",
        "\n",
        "width = 0.25  # the width of the bars\n",
        "\n",
        "fig, ax = plt.subplots()\n",
        "for index, counts in enumerate(counts_list):\n",
        "  rects = ax.bar(np.array(range(len(keys)))+(index-1)*width, [counts.get(key,0) for key in keys], width, label=device_names[index])\n",
        "  plt.xticks(range(len(D)), keys)\n",
        "\n",
        "\n",
        "plt.xlabel('Bitstrings')\n",
        "plt.ylabel('Counts')\n",
        "\n",
        "plt.legend()\n",
        "plt.show()"
      ],
      "metadata": {
        "colab": {
          "base_uri": "https://localhost:8080/",
          "height": 279
        },
        "id": "BSl_N5xWl68o",
        "outputId": "766a4b4f-190e-4870-a625-58788c1bdb1d"
      },
      "id": "BSl_N5xWl68o",
      "execution_count": 72,
      "outputs": [
        {
          "output_type": "display_data",
          "data": {
            "text/plain": [
              "<Figure size 432x288 with 1 Axes>"
            ],
            "image/png": "[encoded data removed]"
          },
          "metadata": {
            "needs_background": "light"
          }
        }
      ]
    },
    {
      "cell_type": "markdown",
      "id": "89c8c00d",
      "metadata": {
        "id": "89c8c00d"
      },
      "source": [
        "## Other circuit outputs"
      ]
    },
    {
      "cell_type": "markdown",
      "id": "0f5306ec",
      "metadata": {
        "id": "0f5306ec"
      },
      "source": [
        "Working with real quantum hardware allow us to get as a result of the computation  only the shot measurements. On the other hand, with simulators we can retrieve more information about the computation and evaluate different quantities, such as the full output-state vector, amplitudes and expectation values of certain observables. To do so, we can append the desired additional result types to the circuit before submitting it to run."
      ]
    },
    {
      "cell_type": "code",
      "execution_count": null,
      "id": "da811f63",
      "metadata": {
        "id": "da811f63",
        "outputId": "10ba38c7-c861-4974-c046-3cf380e7c26d"
      },
      "outputs": [
        {
          "name": "stdout",
          "output_type": "stream",
          "text": [
            "T  : |0|1|  Result Types  |\n",
            "                           \n",
            "q0 : -X-C-Expectation(Z@Z)-\n",
            "        | |                \n",
            "q1 : -H-X-Expectation(Z@Z)-\n",
            "\n",
            "T  : |0|1|  Result Types  |\n",
            "\n",
            "Additional result types: StateVector, Amplitude(11)\n"
          ]
        }
      ],
      "source": [
        "from braket.circuits import Observable\n",
        "\n",
        "device = LocalSimulator()\n",
        "\n",
        "my_circuit = Circuit().x(0).h(1).cnot(0,1)\n",
        "\n",
        "my_circuit.state_vector()\n",
        "# add the Z \\otimes Z expectation value\n",
        "my_circuit.expectation(Observable.Z() @ Observable.Z(), target=[0,1])\n",
        "# add the amplitude for |11>\n",
        "my_circuit.amplitude(state=[\"11\"])\n",
        "# print circuit including requested result types\n",
        "print(my_circuit)"
      ]
    },
    {
      "cell_type": "markdown",
      "id": "4ea48d95",
      "metadata": {
        "id": "4ea48d95"
      },
      "source": [
        "In this case we can see that when printing our circuit also the additional result types are shown.\n",
        "\n",
        "**ATTENTION:** Classical simulators are powerful tools, but they can really struggle when trying to simulate an excessive number of qubits. The dimension of the space scales as $2^N$ where $N$ is the number of qubits."
      ]
    },
    {
      "cell_type": "code",
      "execution_count": null,
      "id": "0cf33329",
      "metadata": {
        "id": "0cf33329",
        "outputId": "8068f548-53dc-427b-c4dd-970769566586"
      },
      "outputs": [
        {
          "name": "stdout",
          "output_type": "stream",
          "text": [
            "Final EXACT simulated state vector:\n",
            " [0.        +0.j 0.        +0.j 0.70710678+0.j 0.70710678+0.j]\n",
            "Expectation value of the observable <ZZ>: 0.0\n",
            "Amplitude of the component |11> of the state: {'11': (0.7071067811865475+0j)}\n"
          ]
        }
      ],
      "source": [
        "# run the circuit and output the results\n",
        "task = device.run(my_circuit, shots=0)\n",
        "result = task.result()\n",
        "\n",
        "# print results\n",
        "print(\"Final EXACT simulated state vector:\\n\", result.values[0])\n",
        "print(\"Expectation value of the observable <ZZ>:\", result.values[1])\n",
        "print(\"Amplitude of the component |11> of the state:\", result.values[2])"
      ]
    },
    {
      "cell_type": "markdown",
      "id": "ea4d8ca4",
      "metadata": {
        "id": "ea4d8ca4"
      },
      "source": [
        "## Deutsch-Josza"
      ]
    },
    {
      "cell_type": "markdown",
      "id": "3dd174a3",
      "metadata": {
        "id": "3dd174a3"
      },
      "source": [
        "In the [Deutsch–Jozsa](https://en.wikipedia.org/wiki/Deutsch%E2%80%93Jozsa_algorithm) problem, we are given an ''oracle'' that implements some function $ f : \\{0,1\\}^{n}\\rightarrow \\{0,1\\}$. The function takes n-digit binary values as input and produces either a 0 or a 1 as output for each such value. We are promised that the function is either **constant** (0 on all outputs or 1 on all outputs) or **balanced** (returns 1 for half of the input domain and 0 for the other half). The task then is to determine if $f$ is constant or balanced by using the oracle. Thanks to the power of quantum computing we can find out the function nature by **executing** the algorithm **only once**.\n",
        "\n",
        "The algorith circuit is the following:\n",
        "\n",
        "<img src=\"https://github.com/fran-scala/Intro_to_QC_beSharp/blob/main/Images/Deutsch-Jozsa-algorithm-quantum-circuit.png?raw=1\" alt=\"d-j\" width=\"500\"/>\n",
        "\n",
        "In the following cell we show how to implement the Deutsch–Jozsa algorithm in the case of $n=2$."
      ]
    },
    {
      "cell_type": "code",
      "execution_count": null,
      "id": "999ca571",
      "metadata": {
        "id": "999ca571",
        "outputId": "4f090ecf-40fc-4491-d3ea-4e086d3b80a8"
      },
      "outputs": [
        {
          "name": "stdout",
          "output_type": "stream",
          "text": [
            "constant\n"
          ]
        }
      ],
      "source": [
        "##change the commented line below to change the oracle\n",
        "\n",
        "#numbers = [0] #balanced\n",
        "numbers = [1,1] #constant\n",
        "\n",
        "n=2\n",
        "\n",
        "#we define the oracle \n",
        "def oracle():\n",
        "    oracle_circ = Circuit()\n",
        "\n",
        "    for i in numbers:\n",
        "        oracle_circ.cnot(i,n)\n",
        "    return oracle_circ\n",
        "\n",
        "def dj_algorithm():\n",
        "    \"\"\"Implements the Deutsch Jozsa algorithm.\"\"\"\n",
        "    \n",
        "    dj_circuit = Circuit()\n",
        "    \n",
        "    dj_circuit.x(n) #the last qubit must be in state |1>\n",
        "                    #psi_0\n",
        "    \n",
        "    for i in range(n+1):\n",
        "        dj_circuit.h(i) # we create equal superposition\n",
        "                        #psi_1\n",
        "    \n",
        "    oracle_circ = oracle()  \n",
        "    \n",
        "    dj_circuit += oracle_circ # psi_2\n",
        "\n",
        "    for i in range(n):\n",
        "        dj_circuit.h(i) # psi_3\n",
        "    \n",
        "    #we now execute the circuit\n",
        "    device = LocalSimulator()\n",
        "\n",
        "    # set the number of desired shots\n",
        "    n_shots = 1 #we want to determine the nature of the function in 1 shot\n",
        "\n",
        "    # run circuit\n",
        "    result = device.run(dj_circuit, shots=n_shots).result()\n",
        "    # get measurement shots\n",
        "    count = result.measurement_counts\n",
        "    meas_outcome = list(count.keys())[0]\n",
        "    \n",
        "    s = 0\n",
        "    for i in range(n): # we need to take into account only the first n outcomes\n",
        "        s += int(meas_outcome[i])\n",
        "        \n",
        "    \n",
        "    # From count (a single call to the circuit), determine whether the function is constant or balanced.\n",
        "    if s==0:\n",
        "        return 'constant'\n",
        "    else:\n",
        "        return 'balanced'\n",
        "    \n",
        "\n",
        "print(dj_algorithm())"
      ]
    },
    {
      "cell_type": "code",
      "execution_count": null,
      "id": "ea86c25b",
      "metadata": {
        "id": "ea86c25b"
      },
      "outputs": [],
      "source": [
        ""
      ]
    },
    {
      "cell_type": "code",
      "execution_count": null,
      "id": "758ec327",
      "metadata": {
        "id": "758ec327"
      },
      "outputs": [],
      "source": [
        ""
      ]
    },
    {
      "cell_type": "code",
      "execution_count": null,
      "id": "8ea904a8",
      "metadata": {
        "id": "8ea904a8"
      },
      "outputs": [],
      "source": [
        ""
      ]
    }
  ],
  "metadata": {
    "kernelspec": {
      "display_name": "Python 3 (ipykernel)",
      "language": "python",
      "name": "python3"
    },
    "language_info": {
      "codemirror_mode": {
        "name": "ipython",
        "version": 3
      },
      "file_extension": ".py",
      "mimetype": "text/x-python",
      "name": "python",
      "nbconvert_exporter": "python",
      "pygments_lexer": "ipython3",
      "version": "3.8.12"
    },
    "colab": {
      "name": "beSharp_1.ipynb",
      "provenance": [],
      "include_colab_link": true
    }
  },
  "nbformat": 4,
  "nbformat_minor": 5
}