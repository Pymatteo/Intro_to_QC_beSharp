{
  "cells": [
    {
      "cell_type": "markdown",
      "id": "0d1c995e",
      "metadata": {
        "colab_type": "text",
        "id": "view-in-github"
      },
      "source": [
        "<a href=\"https://colab.research.google.com/github/fran-scala/Intro_to_QC_beSharp/blob/main/beSharp_1.ipynb\" target=\"_parent\"><img src=\"https://colab.research.google.com/assets/colab-badge.svg\" alt=\"Open In Colab\"/></a>"
      ]
    },
    {
      "cell_type": "markdown",
      "id": "fb52eff9",
      "metadata": {
        "id": "fb52eff9"
      },
      "source": [
        "# AWS Braket Tutorial @ beSharp\n",
        "\n",
        "\n"
      ]
    },
    {
      "cell_type": "markdown",
      "id": "ac58f2b4",
      "metadata": {
        "id": "ac58f2b4"
      },
      "source": [
        "If AWS Braket is not already installed please run the following cell. For more detailed installation info visit [link](https://pypi.org/project/amazon-braket-sdk/).\n",
        "$$\\newcommand{\\ket}[1]{\\left|{#1}\\right\\rangle}$$\n",
        "$$\\newcommand{\\bra}[1]{\\left\\langle{#1}\\right|}$$"
      ]
    },
    {
      "cell_type": "code",
      "execution_count": 1,
      "id": "e906308e",
      "metadata": {
        "id": "e906308e"
      },
      "outputs": [],
      "source": [
        "!pip install amazon-braket-sdk --quiet"
      ]
    },
    {
      "cell_type": "code",
      "execution_count": 1,
      "id": "01cf8736",
      "metadata": {
        "colab": {
          "base_uri": "https://localhost:8080/",
          "height": 35
        },
        "id": "01cf8736",
        "outputId": "657b1e7a-e087-4628-81ba-68aef013fc40"
      },
      "outputs": [
        {
          "data": {
            "text/plain": [
              "'1.18.0'"
            ]
          },
          "execution_count": 1,
          "metadata": {},
          "output_type": "execute_result"
        }
      ],
      "source": [
        "import braket._sdk as sdk\n",
        "sdk.__version__"
      ]
    },
    {
      "cell_type": "code",
      "execution_count": 2,
      "id": "bf2098a2",
      "metadata": {
        "id": "bf2098a2"
      },
      "outputs": [],
      "source": [
        "# general imports\n",
        "import matplotlib.pyplot as plt\n",
        "%matplotlib inline\n",
        "import string\n",
        "import datetime as dt\n",
        "import numpy as np"
      ]
    },
    {
      "cell_type": "markdown",
      "id": "f99e1e43",
      "metadata": {
        "id": "f99e1e43"
      },
      "source": [
        "## 0. A brief recap"
      ]
    },
    {
      "cell_type": "markdown",
      "id": "334e8e4f",
      "metadata": {
        "id": "334e8e4f"
      },
      "source": [
        "Before we start let's have a little recap of quantum computing basics. Firstly, we will give a quick look on the action of the principal quantum gates so as to understand what is done on the qubits state and then we will explain how to construct quantum circuits with di AWS Braket SDK. \n",
        "\n",
        "Each quantum gate can be represented by a ***unitary matrix*** that acts on the ***state vector*** of the qubits. In general, a single qubit state vector is written as \n",
        "$$\\ket{\\psi} = \\alpha \\ket{0}+\\beta\\ket{1}$$\n",
        "where $\\alpha, \\beta \\in \\mathrm{C}$ and $\\ket{0}=\\begin{pmatrix}1\\\\0\\end{pmatrix}$, $\\ket{1}=\\begin{pmatrix}0\\\\1\\end{pmatrix}$.\n",
        "\n",
        "The state of a qubit can also be visually represented onto the so-called Bloch sphere:\n",
        "\n",
        "<p align='center'>\n",
        "<img src=\"https://github.com/fran-scala/Intro_to_QC_beSharp/blob/main/Images/Bloch_sphere.svg.png?raw=1\" alt=\"bloch\" width=\"200\"/>\n",
        "</p>\n",
        "\n",
        "in this representation we have $\\alpha=\\cos{\\frac{\\theta}{2}}$, $\\beta=e^{i\\varphi}\\sin{\\frac{\\theta}{2}}$."
      ]
    },
    {
      "cell_type": "markdown",
      "id": "19147b91",
      "metadata": {
        "id": "19147b91"
      },
      "source": [
        "The most general quantum gate is the one that moves the state $\\ket{\\psi}$ on the Bloch sphere by modifying $\\theta$ and $\\varphi$. One can also obtain the same effect by combining rotations around each axis: we call such rotation gates $RX(\\delta),\\ RY(\\delta),\\ RZ(\\delta) $. From these gates we can obtain all the main single-qubit quantum gates.\n",
        "\n",
        "The main single-qubit quantum gates toghether with their matrix from are reported in the following table:\n",
        "<p align='center'>\n",
        "<img src=\"https://github.com/fran-scala/Intro_to_QC_beSharp/blob/main/Images/Quantum_Gates.png?raw=1\" alt=\"quantum gates\" width=\"500\"/>\n",
        "</p>"
      ]
    },
    {
      "cell_type": "markdown",
      "id": "fc6fb2b3",
      "metadata": {
        "id": "fc6fb2b3"
      },
      "source": [
        "These gates act in the following way:\n",
        "\n",
        "$X\\ket{0} = \\ket{1} \\quad, \\quad X\\ket{1}=\\ket{0}$\n",
        "\n",
        "$Y\\ket{0} = -i\\ket{1} \\quad, \\quad Y\\ket{1}=i\\ket{0}$\n",
        "\n",
        "$Z\\ket{0} = \\ket{0} \\quad, \\quad Z\\ket{1}=-\\ket{1}$\n",
        "\n",
        "$H\\ket{0} = \\frac{1}{\\sqrt{2}} \\biggl(\\ket{0}+\\ket{1}\\biggr)=\\ket{+} \\quad, \\quad H\\ket{1}=\\frac{1}{\\sqrt{2}} \\biggl(\\ket{0}-\\ket{1}\\biggr)=\\ket{-}$\n",
        "\n",
        "where $\\ket{+}$ and $\\ket{-}$ are highlighted since they are eigenstate of the $X$ gate."
      ]
    },
    {
      "cell_type": "markdown",
      "id": "db8eec6e",
      "metadata": {
        "id": "db8eec6e"
      },
      "source": [
        "Another important class of gates are 2-qubits quantum gates, since by the combination of 1-qubit and 2-qubit quantum gate we can obtain gates acting on an arbitrary number of qubits\n",
        "\n",
        "In the table below we show two 2-qubit quantum gates: $CNOT, \\ CZ$. \n",
        "\n",
        "<p align='center'>\n",
        "<img src=\"https://github.com/fran-scala/Intro_to_QC_beSharp/blob/main/Images/Quantum_Gates_2qbs.png?raw=1\" alt=\"quantum gates 2qb\" width=\"500\"/>\n",
        "</p>\n",
        "These are an example of ***controlled*** operations. A quantum gate is said to be controlled if its action is performed on a certain target qubit *if and only if* the control qubit is in state $\\ket{1}$. Controlled operations allow to generate entanglement.\n"
      ]
    },
    {
      "cell_type": "markdown",
      "id": "a79d767e",
      "metadata": {
        "id": "a79d767e"
      },
      "source": [
        "## 1.Quantum circuits"
      ]
    },
    {
      "cell_type": "markdown",
      "id": "8fb7cb64",
      "metadata": {
        "id": "8fb7cb64"
      },
      "source": [
        "At this point we have recalled all the information we will need. We can start our hands-on tutorial by seeing which are all the available gates of the SDK:"
      ]
    },
    {
      "cell_type": "code",
      "execution_count": 3,
      "id": "2723fd9a",
      "metadata": {
        "colab": {
          "base_uri": "https://localhost:8080/"
        },
        "id": "2723fd9a",
        "outputId": "32083327-a4e8-4154-b02c-c8ed646d5b7f"
      },
      "outputs": [
        {
          "name": "stdout",
          "output_type": "stream",
          "text": [
            "['CCNot', 'CNot', 'CPhaseShift', 'CPhaseShift00', 'CPhaseShift01', 'CPhaseShift10', 'CSwap', 'CV', 'CY', 'CZ', 'ECR', 'H', 'I', 'ISwap', 'PSwap', 'PhaseShift', 'Rx', 'Ry', 'Rz', 'S', 'Si', 'Swap', 'T', 'Ti', 'Unitary', 'V', 'Vi', 'X', 'XX', 'XY', 'Y', 'YY', 'Z', 'ZZ']\n"
          ]
        }
      ],
      "source": [
        "from braket.circuits import Gate\n",
        "# print all available gates in Amazon Braket\n",
        "gate_set = [attr for attr in dir(Gate) if attr[0] in string.ascii_uppercase]\n",
        "#dir() returns list of the attributes and methods of any object\n",
        "#the if statement is needed to only print gates (they always have at least an uppercase letter)\n",
        "print(gate_set)"
      ]
    },
    {
      "cell_type": "markdown",
      "id": "e33be69f",
      "metadata": {
        "id": "e33be69f"
      },
      "source": [
        "As we can see there are tons of other gates in addition to the ones that we have presented.\n",
        "\n",
        "In order to apply one of them to a quantum circuit you have to call the method with lower cases:"
      ]
    },
    {
      "cell_type": "code",
      "execution_count": 4,
      "id": "4b6fe8ca",
      "metadata": {
        "colab": {
          "base_uri": "https://localhost:8080/"
        },
        "id": "4b6fe8ca",
        "outputId": "5a2565d2-199b-4efb-9256-1c0610e7fba3"
      },
      "outputs": [
        {
          "data": {
            "text/plain": [
              "Circuit('instructions': [Instruction('operator': H('qubit_count': 1), 'target': QubitSet([Qubit(0)])), Instruction('operator': CNot('qubit_count': 2), 'target': QubitSet([Qubit(0), Qubit(1)]))])"
            ]
          },
          "execution_count": 4,
          "metadata": {},
          "output_type": "execute_result"
        }
      ],
      "source": [
        "# import the circuit module\n",
        "from braket.circuits import Circuit\n",
        "\n",
        "#we create an empty quantum circuit\n",
        "my_circuit = Circuit()# we don't need to specify the number of qubits\n",
        "\n",
        "#we apply gates\n",
        "my_circuit.h(0)\n",
        "my_circuit.cnot(control=0,target=1)# we can esplicitly define control and target, \n",
        "                                    #or simply call my_circuit.cnot(0,1)\n",
        "\n",
        "my_circuit"
      ]
    },
    {
      "cell_type": "markdown",
      "id": "e686e657",
      "metadata": {
        "id": "e686e657"
      },
      "source": [
        "The circuit object is a list of instructions, in order to see how it looks like we can use the `print()` function:"
      ]
    },
    {
      "cell_type": "code",
      "execution_count": 5,
      "id": "2059efca",
      "metadata": {
        "colab": {
          "base_uri": "https://localhost:8080/"
        },
        "id": "2059efca",
        "outputId": "5b7218f3-0626-4078-b35f-ff8095fdd365"
      },
      "outputs": [
        {
          "name": "stdout",
          "output_type": "stream",
          "text": [
            "T  : |0|1|\n",
            "          \n",
            "q0 : -H-C-\n",
            "        | \n",
            "q1 : ---X-\n",
            "\n",
            "T  : |0|1|\n"
          ]
        }
      ],
      "source": [
        "print(my_circuit)"
      ]
    },
    {
      "cell_type": "markdown",
      "id": "c19c6542",
      "metadata": {
        "id": "c19c6542"
      },
      "source": [
        "When printing the quantum circuit structure `AWS Braket` shows us the following elements:\n",
        "\n",
        "- the qubits denoted by 'q' followed by the gates applied to them;\n",
        "- above and below the circuits are represented the timesteps in which the computation on a device will be sliced. \n",
        "\n",
        "In fact, we can only apply one gate at a time per each qubit. The timesteps length is also known as 'depth' of the circuit.\n",
        "\n",
        "If we add to our circuit one gate on different qubits we will see that the timesteps number doesn't increase:"
      ]
    },
    {
      "cell_type": "code",
      "execution_count": 6,
      "id": "a239bca6",
      "metadata": {
        "colab": {
          "base_uri": "https://localhost:8080/"
        },
        "id": "a239bca6",
        "outputId": "db7da19f-7cca-4974-9331-4faef2fdeccb"
      },
      "outputs": [
        {
          "name": "stdout",
          "output_type": "stream",
          "text": [
            "T  : |0|1|\n",
            "          \n",
            "q0 : -H-C-\n",
            "        | \n",
            "q1 : ---X-\n",
            "          \n",
            "q2 : -C---\n",
            "      |   \n",
            "q3 : -X---\n",
            "\n",
            "T  : |0|1|\n"
          ]
        }
      ],
      "source": [
        "my_circuit = Circuit()\n",
        "my_circuit.h(0)\n",
        "my_circuit.cnot(0,1)\n",
        "\n",
        "my_circuit.cnot(2,3)\n",
        "print(my_circuit)"
      ]
    },
    {
      "cell_type": "markdown",
      "id": "5319b110",
      "metadata": {
        "id": "5319b110"
      },
      "source": [
        "We can also easily combine circuits:"
      ]
    },
    {
      "cell_type": "code",
      "execution_count": 7,
      "id": "70b35800",
      "metadata": {
        "colab": {
          "base_uri": "https://localhost:8080/"
        },
        "id": "70b35800",
        "outputId": "de731d12-8611-47e8-b8c2-eef29eff7650"
      },
      "outputs": [
        {
          "name": "stdout",
          "output_type": "stream",
          "text": [
            "T  : |0|1|2|\n",
            "            \n",
            "q0 : -H-X-H-\n",
            "        |   \n",
            "q1 : ---C-X-\n",
            "            \n",
            "q3 : -Z-----\n",
            "\n",
            "T  : |0|1|2|\n"
          ]
        }
      ],
      "source": [
        "my_circ1 = Circuit().h(0).cnot(1,0)\n",
        "my_circ2 = Circuit().x(1).h(0).z(3)\n",
        "\n",
        "combined_circ = my_circ1 + my_circ2\n",
        "\n",
        "print(combined_circ)"
      ]
    },
    {
      "cell_type": "markdown",
      "id": "94dc4bec",
      "metadata": {
        "id": "94dc4bec"
      },
      "source": [
        "## 2.Bell States execution"
      ]
    },
    {
      "cell_type": "markdown",
      "id": "1f86498d",
      "metadata": {
        "id": "1f86498d"
      },
      "source": [
        "The so-called 'Bell states' are a well known class of maximally entangled quantum states. They are described by the following equations: \n",
        "\n",
        "$$\\ket{\\Phi^+} =  \\frac{1}{\\sqrt{2}} \\biggl(\\ket{00}+\\ket{11}\\biggr) \\quad , \\quad \\quad \\ket{\\Phi^-} =  \\frac{1}{\\sqrt{2}} \\biggl(\\ket{00}-\\ket{11}\\biggr)$$ \n",
        "\n",
        "$$\\ket{\\Psi^+} =  \\frac{1}{\\sqrt{2}} \\biggl(\\ket{01}+\\ket{10}\\biggr) \\quad , \\quad \\quad \\ket{\\Psi^-} =  \\frac{1}{\\sqrt{2}} \\biggl(\\ket{01}-\\ket{10}\\biggr)$$ \n",
        "\n",
        "The Bell state $\\ket{\\Phi^+}$ can be obtained applying an Hadamard gate follwed by a $CNOT$. All the others can be obtained in the same way by changing only the initial qubit state (from $\\ket{00}$ to $\\ket{01},\\ket{10},\\ket{11}$) using some $X$ gates.\n",
        "<p align='center'>\n",
        "<img src=\"https://github.com/fran-scala/Intro_to_QC_beSharp/blob/main/Images/bell-state.png?raw=1\" alt=\"bell\" width=\"300\"/>\n",
        "</p>\n",
        "\n",
        "So, let's build this circuit and see how to execute it."
      ]
    },
    {
      "cell_type": "code",
      "execution_count": 8,
      "id": "vD1zO-qqRNOV",
      "metadata": {
        "id": "vD1zO-qqRNOV"
      },
      "outputs": [],
      "source": [
        "bell_circ = Circuit().h(0).cnot(0,1)"
      ]
    },
    {
      "cell_type": "markdown",
      "id": "865b2989",
      "metadata": {
        "id": "865b2989"
      },
      "source": [
        "Now that we built a circuit we can execute it with the `LocalSimulator`. Executing a quantum circuit means that we measure the status of each qubit after we performed the computation to see if they are in state $\\ket{0}$ or $\\ket{1}$. Since quantum mechanics allows superposition states we will need to repeat the computation multiple times, so we have to fix the number of desired `shots`."
      ]
    },
    {
      "cell_type": "code",
      "execution_count": 9,
      "id": "e5dfddec",
      "metadata": {
        "colab": {
          "base_uri": "https://localhost:8080/"
        },
        "id": "e5dfddec",
        "outputId": "a93db7b1-294a-4c3c-e039-c5d93b35fc57"
      },
      "outputs": [
        {
          "name": "stdout",
          "output_type": "stream",
          "text": [
            "Counter({'11': 508, '00': 492})\n"
          ]
        }
      ],
      "source": [
        "from braket.devices import LocalSimulator\n",
        "\n",
        "# set up device\n",
        "device = LocalSimulator()\n",
        "\n",
        "# set the number of desired shots\n",
        "n_shots = 1000\n",
        "\n",
        "# run circuit\n",
        "result = device.run(bell_circ, shots=n_shots).result()\n",
        "# get measurement shots\n",
        "sim_counts = result.measurement_counts\n",
        "# print counts\n",
        "print(sim_counts)"
      ]
    },
    {
      "cell_type": "code",
      "execution_count": 10,
      "id": "UbqKaA_ynqjV",
      "metadata": {
        "colab": {
          "base_uri": "https://localhost:8080/"
        },
        "id": "UbqKaA_ynqjV",
        "outputId": "2e600c99-e597-4e25-9ef0-45fffa6465b6"
      },
      "outputs": [
        {
          "name": "stdout",
          "output_type": "stream",
          "text": [
            "['00', '01', '10', '11']\n"
          ]
        }
      ],
      "source": [
        "keys = [np.binary_repr(i,  width=2) for i in range(2**2)]\n",
        "print(keys)"
      ]
    },
    {
      "cell_type": "code",
      "execution_count": 11,
      "id": "8704ef4f",
      "metadata": {
        "colab": {
          "base_uri": "https://localhost:8080/",
          "height": 334
        },
        "id": "8704ef4f",
        "outputId": "9b12085a-2a85-46cd-e2f2-fe01dcb086cd"
      },
      "outputs": [
        {
          "data": {
            "image/png": "[encoded data removed]",
            "text/plain": [
              "<Figure size 576x360 with 1 Axes>"
            ]
          },
          "metadata": {
            "needs_background": "light"
          },
          "output_type": "display_data"
        }
      ],
      "source": [
        "# plot the results\n",
        "fig, ax = plt.subplots(figsize=(8,5))\n",
        "plt.bar(np.array(range(len(keys))), [sim_counts.get(key,0) for key in keys], width = 0.35)\n",
        "\n",
        "plt.xticks(range(len(keys)), keys)\n",
        "plt.xlabel('Bitstrings')\n",
        "plt.ylabel('Counts')\n",
        "\n",
        "plt.show()"
      ]
    },
    {
      "cell_type": "markdown",
      "id": "e04d38ed",
      "metadata": {
        "id": "e04d38ed"
      },
      "source": [
        "### 2.1.Real hardware execution"
      ]
    },
    {
      "cell_type": "markdown",
      "id": "JKVph7jMSDBc",
      "metadata": {
        "id": "JKVph7jMSDBc"
      },
      "source": [
        "So far we have seen how to simulate the execution of a quantum circuit. But it's definitely much more interesting to see how things reallly work when circuits are run on a real Noisy Intermediate Scale Quantum (NISQ) device. `AWS Braket` allows to manage different kind of Quantum Processing Units (QPUs) from **IonQ** (*trapped-ions*), **Rigetti** (*superconduting*) and **Oxford Quantum Circuits** (*superconducting*). To remotely access these devices you can save your AWS credentials locally following this [link](https://docs.aws.amazon.com/sdk-for-java/v1/developer-guide/setup-credentials.html).\n",
        "\n",
        "In order to execute a quantum circuit on a real device you need to create an S3 bucket in the AWS cloud to store the results of your computation [here](https://docs.aws.amazon.com/AmazonS3/latest/userguide/create-bucket-overview.html) you can find out how. \n",
        "\n",
        "Once everything is set up you are ready for use the QPUs."
      ]
    },
    {
      "cell_type": "markdown",
      "id": "fdee0b9a",
      "metadata": {
        "id": "fdee0b9a"
      },
      "source": [
        "By only changing the device name one could in principle execute the quantum circuit also on real quantum hardware. \n",
        "\n",
        "The syntax to load for instance the IonQ and Rigetti devices is the following:"
      ]
    },
    {
      "cell_type": "code",
      "execution_count": 13,
      "id": "87025590",
      "metadata": {
        "id": "87025590"
      },
      "outputs": [],
      "source": [
        "from braket.aws import AwsDevice\n",
        "ionq = AwsDevice(\"arn:aws:braket:::device/qpu/ionq/ionQdevice\")\n",
        "rigetti = AwsDevice('arn:aws:braket:::device/qpu/rigetti/Aspen-11')            #Aspen-11\n",
        "##rigetti2 = AwsDevice('arn:aws:braket:us-west-1::device/qpu/rigetti/Aspen-M-1')  #Aspen M-1\n",
        "\n",
        "device_list = [ionq, rigetti]\n"
      ]
    },
    {
      "cell_type": "markdown",
      "id": "7e090622",
      "metadata": {
        "id": "7e090622"
      },
      "source": [
        "**ATTENTION:** Often real hardware have limited kinds of gates available, always check them before trying to execute the quantum circuit."
      ]
    },
    {
      "cell_type": "code",
      "execution_count": 12,
      "id": "692c40fe",
      "metadata": {
        "id": "692c40fe"
      },
      "outputs": [
        {
          "name": "stdout",
          "output_type": "stream",
          "text": [
            "Gate set supported by the device:\n",
            " ['x', 'y', 'z', 'rx', 'ry', 'rz', 'h', 'cnot', 's', 'si', 't', 'ti', 'v', 'vi', 'xx', 'yy', 'zz', 'swap', 'i']\n",
            "Gate set supported by the device:\n",
            " ['cz', 'xy', 'ccnot', 'cnot', 'cphaseshift', 'cphaseshift00', 'cphaseshift01', 'cphaseshift10', 'cswap', 'h', 'i', 'iswap', 'phaseshift', 'pswap', 'rx', 'ry', 'rz', 's', 'si', 'swap', 't', 'ti', 'x', 'y', 'z', 'start_verbatim_box', 'end_verbatim_box']\n"
          ]
        }
      ],
      "source": [
        "for device in device_list:\n",
        "\n",
        "  supported_gates = device.properties.action['braket.ir.jaqcd.program'].supportedOperations\n",
        "  print('Gate set supported by the device:\\n', supported_gates)"
      ]
    },
    {
      "cell_type": "markdown",
      "id": "QXriw8ZyXCTL",
      "metadata": {
        "id": "QXriw8ZyXCTL"
      },
      "source": [
        "You can also give a look to all the QPU properties:"
      ]
    },
    {
      "cell_type": "code",
      "execution_count": null,
      "id": "EhhgRe17XBZ-",
      "metadata": {
        "id": "EhhgRe17XBZ-"
      },
      "outputs": [],
      "source": [
        "for device in device_list:\n",
        "  print(device.properties)"
      ]
    },
    {
      "cell_type": "markdown",
      "id": "LklUqWBKV8VP",
      "metadata": {
        "id": "LklUqWBKV8VP"
      },
      "source": [
        "Before executing a circuit on a real hardware you will need to enter the details of S3 bucket you created during onboarding in the code below.\n",
        "\n",
        "```\n",
        "my_bucket = \"amazon-braket-NUMBERS\" # the name of the bucket\n",
        "my_prefix = #\"folder/\" # the name of the folder in the bucket\n",
        "\n",
        "s3_folder = (my_bucket, my_prefix)\n",
        "```\n",
        "\n"
      ]
    },
    {
      "cell_type": "markdown",
      "id": "9Jz_RrDrX6SL",
      "metadata": {
        "id": "9Jz_RrDrX6SL"
      },
      "source": [
        "Then you can run the following code to execute the circuit:\n",
        "\n",
        "```\n",
        "from braket.aws import AwsQuantumTask\n",
        "\n",
        "task_list = []\n",
        "\n",
        "# set the number of desired shots\n",
        "n_shots = 1024\n",
        "\n",
        "for device in device_list:\n",
        "  # run circuit\n",
        "  task = device.run(bell_circ, s3_folder, shots=n_shots)#this is for real hardware execution\n",
        "  #stack task id\n",
        "  task_list.append(task.id) #task.id only works with online devices\n",
        "  \n",
        "#save tasks\n",
        "np.save('real_hdw_bell_tasks_{}'.format(dt.datetime.today().isoformat()),task_list)\n",
        "```"
      ]
    },
    {
      "cell_type": "markdown",
      "id": "u77U-0TnZnjt",
      "metadata": {
        "id": "u77U-0TnZnjt"
      },
      "source": [
        "We can also check the status of our computation by simply running `task.state()` for each `AwsQuantumTask` corresponding to the task IDs in `task_list`:\n",
        "\n",
        "\n",
        "```\n",
        "from braket.aws import AwsQuantumTask\n",
        "\n",
        "ok = 0\n",
        "queued = 0\n",
        "failed = 0\n",
        "\n",
        "for i, task in enumerate(task_list):\n",
        "    task = AwsQuantumTask(arn=task)\n",
        "    if task.state()=='COMPLETED':\n",
        "        ok+=1\n",
        "        \n",
        "    elif task.state()=='QUEUED':\n",
        "        queued +=1\n",
        "        \n",
        "    elif task.state()=='FAILED':\n",
        "        failed+=1\n",
        "        print(i, 'FAILED')\n",
        "        \n",
        "print('Completed', ok)\n",
        "print('Queued', queued)\n",
        "print('Total failures', failed)\n",
        "```"
      ]
    },
    {
      "cell_type": "markdown",
      "id": "K69arP3fYlOY",
      "metadata": {
        "id": "K69arP3fYlOY"
      },
      "source": [
        "We can retrieve the results of our computation as follows thanks to the `AwsQuantumTask` function:\n",
        "\n",
        "```\n",
        "counts_list = []\n",
        "\n",
        "#loading previously saved task_ids\n",
        "task_list = np.load('real_hdw_bell_tasks_DATATIME.npy')\n",
        "\n",
        "#retrieving the execution results from the cloud\n",
        "for task_id in task_list:\n",
        "    task_load = AwsQuantumTask(arn=task_id)\n",
        "    result = task_load.result()\n",
        "    \n",
        "    # get measurement shots\n",
        "    counts = result.measurement_counts\n",
        "    counts_list.append(counts)\n",
        "```"
      ]
    },
    {
      "cell_type": "markdown",
      "id": "IBD9v2pdXmaz",
      "metadata": {
        "id": "IBD9v2pdXmaz"
      },
      "source": [
        "### 2.2.Comparison"
      ]
    },
    {
      "cell_type": "markdown",
      "id": "dy56T-fVbShw",
      "metadata": {
        "id": "dy56T-fVbShw"
      },
      "source": [
        "Let's execute the Bell circuit two times and see if there are any differences."
      ]
    },
    {
      "cell_type": "code",
      "execution_count": 26,
      "id": "Fn8Iliv3bRag",
      "metadata": {
        "id": "Fn8Iliv3bRag"
      },
      "outputs": [],
      "source": [
        "counts_list = []"
      ]
    },
    {
      "cell_type": "code",
      "execution_count": 27,
      "id": "8pXjE2gxbJ_G",
      "metadata": {
        "id": "8pXjE2gxbJ_G"
      },
      "outputs": [],
      "source": [
        "# set the number of desired shots\n",
        "n_shots = 1024\n",
        "np.random.seed(1)\n",
        "#we will only simulate\n",
        "device_list = [LocalSimulator(),LocalSimulator()] #for now\n",
        "for device in device_list:\n",
        "  # run circuit\n",
        "  task = device.run(bell_circ, shots=n_shots).result()\n",
        "\n",
        "  \n",
        "  counts = task.measurement_counts\n",
        "\n",
        "  counts_list.append(counts)\n"
      ]
    },
    {
      "cell_type": "markdown",
      "id": "25696107",
      "metadata": {},
      "source": [
        "Let's retrieve some previous obtained real results:"
      ]
    },
    {
      "cell_type": "code",
      "execution_count": 28,
      "id": "9f9a406a",
      "metadata": {},
      "outputs": [],
      "source": [
        "real_hdw_1 = {'00': 501, '01': 34, '10': 39, '11': 450}\n",
        "counts_list.append(real_hdw_1)\n",
        "\n",
        "task_list = np.load('real_hdw_bell_tasks_2022-03-28T08_47_01.099745_lucy.npy')\n",
        "\n",
        "#retrieving the execution results from the cloud\n",
        "for task_id in task_list:\n",
        "    task_load = AwsQuantumTask(arn=task_id)\n",
        "    result = task_load.result()\n",
        "\n",
        "    # get measurement shots\n",
        "    lucy_counts = result.measurement_counts\n",
        "counts_list.append(lucy_counts)\n"
      ]
    },
    {
      "cell_type": "markdown",
      "id": "-B7GkRiYxVwo",
      "metadata": {
        "id": "-B7GkRiYxVwo"
      },
      "source": [
        "We can now see if there are any differences in the measurement counts:"
      ]
    },
    {
      "cell_type": "code",
      "execution_count": 33,
      "id": "BSl_N5xWl68o",
      "metadata": {
        "colab": {
          "base_uri": "https://localhost:8080/",
          "height": 339
        },
        "id": "BSl_N5xWl68o",
        "outputId": "8947aa11-b34f-4e15-8f1a-106d11997bd8"
      },
      "outputs": [
        {
          "data": {
            "image/png": "[encoded data removed]",
            "text/plain": [
              "<Figure size 720x360 with 1 Axes>"
            ]
          },
          "metadata": {
            "needs_background": "light"
          },
          "output_type": "display_data"
        }
      ],
      "source": [
        "from braket.aws import AwsQuantumTask\n",
        "\n",
        "device_names = ['Sim1', 'Sim2', 'Real IBM', 'Real OQC']\n",
        "width = 0.15  # the width of the bars\n",
        "\n",
        "fig, ax = plt.subplots(figsize=(10,5))\n",
        "for index, counts in enumerate(counts_list):\n",
        "  rects = ax.bar(np.array(range(len(keys)))+(index-1.5)*width, [counts.get(key,0) for key in keys], width, label=device_names[index])\n",
        "\n",
        "plt.xticks(range(len(keys)), keys)\n",
        "plt.plot(np.linspace(-0.5,3.5,100), [512]*100, color='r', label='Ideal')\n",
        "plt.xlabel('Bitstrings', fontsize=15)\n",
        "plt.ylabel('Counts', fontsize=15)\n",
        "\n",
        "plt.legend(fontsize=15)\n",
        "plt.show()"
      ]
    },
    {
      "cell_type": "markdown",
      "id": "89c8c00d",
      "metadata": {
        "id": "89c8c00d"
      },
      "source": [
        "### 2.3.Other circuit outputs"
      ]
    },
    {
      "cell_type": "markdown",
      "id": "0f5306ec",
      "metadata": {
        "id": "0f5306ec"
      },
      "source": [
        "Working with real quantum hardware allow us to get as a result of the computation  only the shot measurements. On the other hand, with simulators we can obtain more information about the computation and evaluate different quantities, such as the full output-state vector, amplitudes and expectation values of certain observables. To do so, we can append the desired additional result types to the circuit before submitting it to run."
      ]
    },
    {
      "cell_type": "code",
      "execution_count": 19,
      "id": "da811f63",
      "metadata": {
        "colab": {
          "base_uri": "https://localhost:8080/"
        },
        "id": "da811f63",
        "outputId": "3b77f277-1357-4b47-daa3-71d3d8bed025"
      },
      "outputs": [
        {
          "name": "stdout",
          "output_type": "stream",
          "text": [
            "T  : |0|1|  Result Types  |\n",
            "                           \n",
            "q0 : -X-C-Expectation(Z@Z)-\n",
            "        | |                \n",
            "q1 : -H-X-Expectation(Z@Z)-\n",
            "\n",
            "T  : |0|1|  Result Types  |\n",
            "\n",
            "Additional result types: StateVector, Amplitude(11)\n"
          ]
        }
      ],
      "source": [
        "from braket.circuits import Observable\n",
        "\n",
        "device = LocalSimulator()\n",
        "\n",
        "my_circuit = Circuit().x(0).h(1).cnot(0,1)\n",
        "\n",
        "my_circuit.state_vector()\n",
        "# add the Z \\otimes Z expectation value\n",
        "my_circuit.expectation(Observable.Z() @ Observable.Z(), target=[0,1])\n",
        "# add the amplitude for |11>\n",
        "my_circuit.amplitude(state=[\"11\"])\n",
        "# print circuit including requested result types\n",
        "print(my_circuit)"
      ]
    },
    {
      "cell_type": "markdown",
      "id": "4ea48d95",
      "metadata": {
        "id": "4ea48d95"
      },
      "source": [
        "In this case we can see that when printing our circuit also the additional result types are shown.\n",
        "\n",
        "**ATTENTION:** Classical simulators are powerful tools, but they can really struggle when trying to simulate an excessive number of qubits. The dimension of the space scales as $2^N$ where $N$ is the number of qubits."
      ]
    },
    {
      "cell_type": "code",
      "execution_count": 20,
      "id": "0cf33329",
      "metadata": {
        "colab": {
          "base_uri": "https://localhost:8080/"
        },
        "id": "0cf33329",
        "outputId": "577f345d-e68a-470d-bedd-77525aa7f97c"
      },
      "outputs": [
        {
          "name": "stdout",
          "output_type": "stream",
          "text": [
            "Final EXACT simulated state vector:\n",
            "[0.        +0.j 0.        +0.j 0.70710678+0.j 0.70710678+0.j]\n",
            "\n",
            "Expectation value of the observable <ZZ>:0.0\n",
            "\n",
            "Amplitude of the component |11> of the state:{'11': (0.7071067811865475+0j)}\n",
            "\n"
          ]
        }
      ],
      "source": [
        "# run the circuit and output the results\n",
        "task = device.run(my_circuit, shots=0)\n",
        "result = task.result()\n",
        "\n",
        "# print results\n",
        "print(\"Final EXACT simulated state vector:\\n{}\\n\".format(result.values[0]))\n",
        "print(\"Expectation value of the observable <ZZ>:{}\\n\".format( result.values[1]))\n",
        "print(\"Amplitude of the component |11> of the state:{}\\n\".format( result.values[2]))"
      ]
    },
    {
      "cell_type": "markdown",
      "id": "ea4d8ca4",
      "metadata": {
        "id": "ea4d8ca4"
      },
      "source": [
        "## 3.Deutsch-Josza"
      ]
    },
    {
      "cell_type": "markdown",
      "id": "3dd174a3",
      "metadata": {
        "id": "3dd174a3"
      },
      "source": [
        "In the [Deutsch–Jozsa](https://en.wikipedia.org/wiki/Deutsch%E2%80%93Jozsa_algorithm) problem, we are given an ''oracle'' that implements some function $ f : \\{0,1\\}^{n}\\rightarrow \\{0,1\\}$. The function takes n-digit binary values as input and produces either a 0 or a 1 as output for each such value. We are promised that the function is either **constant** (0 on all outputs or 1 on all outputs) or **balanced** (returns 1 for half of the input domain and 0 for the other half). The task then is to determine if $f$ is constant or balanced by using the oracle. Thanks to the power of quantum computing we can find out the function nature by **executing** the algorithm **only once**.\n",
        "\n",
        "The algorith circuit is the following:\n",
        "<p align='center'>\n",
        "\n",
        "<img src=\"https://github.com/fran-scala/Intro_to_QC_beSharp/blob/main/Images/Deutsch-Jozsa-algorithm-quantum-circuit.png?raw=1\" alt=\"d-j\" width=\"500\"/>\n",
        "</p>\n",
        "\n",
        "In the following cell we show how to implement the Deutsch–Jozsa algorithm in the case of $n=2$."
      ]
    },
    {
      "cell_type": "code",
      "execution_count": 21,
      "id": "999ca571",
      "metadata": {
        "colab": {
          "base_uri": "https://localhost:8080/"
        },
        "id": "999ca571",
        "outputId": "ff8d477d-507d-4e2a-da4c-65674aacb479"
      },
      "outputs": [
        {
          "name": "stdout",
          "output_type": "stream",
          "text": [
            "constant\n"
          ]
        }
      ],
      "source": [
        "##change the commented line below to change the oracle\n",
        "\n",
        "#controls = [0] #balanced\n",
        "controls = [1,1] #constant\n",
        "\n",
        "n=2\n",
        "\n",
        "#we define the oracle \n",
        "def oracle():\n",
        "    oracle_circ = Circuit()\n",
        "\n",
        "    for i in controls:\n",
        "        oracle_circ.cnot(i,n)\n",
        "    return oracle_circ\n",
        "\n",
        "def dj_algorithm():\n",
        "    \"\"\"Implements the Deutsch Jozsa algorithm.\"\"\"\n",
        "    \n",
        "    dj_circuit = Circuit()\n",
        "    \n",
        "    dj_circuit.x(n) #the last qubit must be in state |1>\n",
        "                    #psi_0\n",
        "    \n",
        "    for i in range(n+1):\n",
        "        dj_circuit.h(i) # we create equal superposition\n",
        "                        #psi_1\n",
        "    \n",
        "    oracle_circ = oracle()  \n",
        "    \n",
        "    dj_circuit += oracle_circ # psi_2\n",
        "\n",
        "    for i in range(n):\n",
        "        dj_circuit.h(i) # psi_3\n",
        "    #print(dj_circuit)\n",
        "    #we now execute the circuit\n",
        "    device = LocalSimulator()\n",
        "\n",
        "    # set the number of desired shots\n",
        "    n_shots = 1 #we want to determine the nature of the function in 1 shot\n",
        "\n",
        "    # run circuit\n",
        "    result = device.run(dj_circuit, shots=n_shots).result()\n",
        "    # get measurement shots\n",
        "    count = result.measurement_counts\n",
        "    meas_outcome = list(count.keys())[0]\n",
        "    \n",
        "    s = 0\n",
        "    for i in range(n): # we need to take into account only the first n outcomes\n",
        "        s += int(meas_outcome[i])\n",
        "        \n",
        "    \n",
        "    # From count (a single call to the circuit), determine whether the function is constant or balanced.\n",
        "    if s==0:\n",
        "        return 'constant'\n",
        "    else:\n",
        "        return 'balanced'\n",
        "    \n",
        "\n",
        "print(dj_algorithm())"
      ]
    }
  ],
  "metadata": {
    "colab": {
      "include_colab_link": true,
      "name": "beSharp_1.ipynb",
      "provenance": []
    },
    "kernelspec": {
      "display_name": "Python 3 (ipykernel)",
      "language": "python",
      "name": "python3"
    },
    "language_info": {
      "codemirror_mode": {
        "name": "ipython",
        "version": 3
      },
      "file_extension": ".py",
      "mimetype": "text/x-python",
      "name": "python",
      "nbconvert_exporter": "python",
      "pygments_lexer": "ipython3",
      "version": "3.8.12"
    }
  },
  "nbformat": 4,
  "nbformat_minor": 5
}
